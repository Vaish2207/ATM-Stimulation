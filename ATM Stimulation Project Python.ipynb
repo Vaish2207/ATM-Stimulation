{
 "cells": [
  {
   "cell_type": "code",
   "execution_count": 3,
   "id": "0351aeea",
   "metadata": {},
   "outputs": [
    {
     "name": "stdout",
     "output_type": "stream",
     "text": [
      "Enter your pin:  65566\n",
      "Select your Transaction from the above options:  2\n",
      "Enter Amount:  60000\n",
      "Insufficient Balance\n"
     ]
    }
   ],
   "source": [
    "class ATM:\n",
    "    \n",
    "    def __init__(self):\n",
    "        self.balance=10000\n",
    "        \n",
    "    def check_balance(self):\n",
    "        print(f'Available A/C Balance is {self.balance}')\n",
    "        \n",
    "    def withdraw(self,amount):\n",
    "        if amount<=self.balance:\n",
    "            self.balance=self.balance-amount\n",
    "            print(f'Your available balance is {balance}')\n",
    "        else:\n",
    "            print(\"Insufficient Balance\")\n",
    "            \n",
    "    def deposit(self,amount):\n",
    "        self.balance=self.balance+amount\n",
    "        \n",
    "def atm_simulation():\n",
    "    atm=ATM()\n",
    "    \n",
    "    pin=int(input(\"Enter your pin:  \"))\n",
    "    \n",
    "    choose=int(input('Select your Transaction from the above options:  '))\n",
    "    \n",
    "    if choose==1:\n",
    "        atm.check_balance()\n",
    "        \n",
    "        \n",
    "    elif choose==2:\n",
    "        \n",
    "        withdraw=int(input(\"Enter Amount:  \"))\n",
    "        atm.withdraw(withdraw)\n",
    "        \n",
    "            \n",
    "            \n",
    "    elif choose==3:\n",
    "        \n",
    "        amount=int(input(\"Enter amount:  \"))\n",
    "        atm.deposit(amount)\n",
    "        \n",
    "    elif choose==4:\n",
    "        exit()\n",
    "        \n",
    "    else:\n",
    "        print(\"Insufficient Balance\")\n",
    "        \n",
    "    return\n",
    "\n",
    "if __name__==\"__main__\":\n",
    "    \n",
    "    atm_simulation()\n"
   ]
  },
  {
   "cell_type": "code",
   "execution_count": null,
   "id": "44b1314a",
   "metadata": {},
   "outputs": [],
   "source": []
  }
 ],
 "metadata": {
  "kernelspec": {
   "display_name": "Python 3 (ipykernel)",
   "language": "python",
   "name": "python3"
  },
  "language_info": {
   "codemirror_mode": {
    "name": "ipython",
    "version": 3
   },
   "file_extension": ".py",
   "mimetype": "text/x-python",
   "name": "python",
   "nbconvert_exporter": "python",
   "pygments_lexer": "ipython3",
   "version": "3.11.5"
  }
 },
 "nbformat": 4,
 "nbformat_minor": 5
}
